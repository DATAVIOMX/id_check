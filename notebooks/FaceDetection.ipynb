{
 "cells": [
  {
   "cell_type": "code",
   "execution_count": 1,
   "metadata": {},
   "outputs": [],
   "source": [
    "from mtcnn.mtcnn import MTCNN\n",
    "import cv2"
   ]
  },
  {
   "cell_type": "code",
   "execution_count": 2,
   "metadata": {},
   "outputs": [],
   "source": [
    "def get_face(img):\n",
    "    img = cv2.imread(img)    \n",
    "    detector = MTCNN()\n",
    "    result = detector.detect_faces(img)\n",
    "    if result[0][\"confidence\"] >= 0.5:\n",
    "        print(\"True\")\n",
    "    return img, result"
   ]
  },
  {
   "cell_type": "code",
   "execution_count": 3,
   "metadata": {},
   "outputs": [
    {
     "name": "stdout",
     "output_type": "stream",
     "text": [
      "True\n"
     ]
    }
   ],
   "source": [
    "img, result = get_face(\"ifes/5_front.jpg\")"
   ]
  },
  {
   "cell_type": "code",
   "execution_count": 6,
   "metadata": {},
   "outputs": [],
   "source": [
    "def print_image(img, result, name):\n",
    "    bounding_box = result[0]['box']\n",
    "    keypoints = result[0]['keypoints']\n",
    "\n",
    "    cv2.rectangle(img,\n",
    "                  (bounding_box[0], bounding_box[1]),\n",
    "                  (bounding_box[0]+bounding_box[2], bounding_box[1] + bounding_box[3]),\n",
    "                  (0,155,255),\n",
    "                  2)\n",
    "\n",
    "    cv2.circle(img,(keypoints['left_eye']), 2, (0,155,255), 2)\n",
    "    cv2.circle(img,(keypoints['right_eye']), 2, (0,155,255), 2)\n",
    "    cv2.circle(img,(keypoints['nose']), 2, (0,155,255), 2)\n",
    "    cv2.circle(img,(keypoints['mouth_left']), 2, (0,155,255), 2)\n",
    "    cv2.circle(img,(keypoints['mouth_right']), 2, (0,155,255), 2)\n",
    "    cv2.imwrite(name, img)"
   ]
  },
  {
   "cell_type": "code",
   "execution_count": 7,
   "metadata": {},
   "outputs": [],
   "source": [
    "print_image(img, result, \"ifes/5_front_points.jpg\")"
   ]
  }
 ],
 "metadata": {
  "kernelspec": {
   "display_name": "Python 3",
   "language": "python",
   "name": "python3"
  },
  "language_info": {
   "codemirror_mode": {
    "name": "ipython",
    "version": 3
   },
   "file_extension": ".py",
   "mimetype": "text/x-python",
   "name": "python",
   "nbconvert_exporter": "python",
   "pygments_lexer": "ipython3",
   "version": "3.6.8"
  }
 },
 "nbformat": 4,
 "nbformat_minor": 2
}
